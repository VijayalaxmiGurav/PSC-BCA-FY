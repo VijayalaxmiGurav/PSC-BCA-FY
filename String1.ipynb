{
 "cells": [
  {
   "cell_type": "code",
   "execution_count": 1,
   "id": "1ea7898f-1e1a-489a-b4a0-7a0495c70dbf",
   "metadata": {},
   "outputs": [],
   "source": [
    "name = \"Vijayalaxmi Gurav\""
   ]
  },
  {
   "cell_type": "code",
   "execution_count": 5,
   "id": "e75386e7-3372-4fcd-9ee5-23eab48e7c66",
   "metadata": {},
   "outputs": [
    {
     "data": {
      "text/plain": [
       "'Vijayalaxmi Gurav'"
      ]
     },
     "execution_count": 5,
     "metadata": {},
     "output_type": "execute_result"
    }
   ],
   "source": [
    "name"
   ]
  },
  {
   "cell_type": "code",
   "execution_count": 7,
   "id": "6588d555-59ce-439e-9d19-104bd0ad65f3",
   "metadata": {},
   "outputs": [
    {
     "data": {
      "text/plain": [
       "'VIJAYALAXMI GURAV'"
      ]
     },
     "execution_count": 7,
     "metadata": {},
     "output_type": "execute_result"
    }
   ],
   "source": [
    "name.upper()"
   ]
  },
  {
   "cell_type": "code",
   "execution_count": 8,
   "id": "cac9231d-726d-4f0e-bf50-0e19c14ac382",
   "metadata": {},
   "outputs": [
    {
     "data": {
      "text/plain": [
       "'Vijayalaxmi Gurav'"
      ]
     },
     "execution_count": 8,
     "metadata": {},
     "output_type": "execute_result"
    }
   ],
   "source": [
    "name"
   ]
  },
  {
   "cell_type": "code",
   "execution_count": 9,
   "id": "9cd047e4-2f2d-46cc-a1a6-c9a4eb27f9dc",
   "metadata": {},
   "outputs": [],
   "source": [
    "name =name.upper()"
   ]
  },
  {
   "cell_type": "code",
   "execution_count": 10,
   "id": "ca2e05dc-8db2-4486-a5b5-a96a680dce08",
   "metadata": {},
   "outputs": [
    {
     "data": {
      "text/plain": [
       "'VIJAYALAXMI GURAV'"
      ]
     },
     "execution_count": 10,
     "metadata": {},
     "output_type": "execute_result"
    }
   ],
   "source": [
    "name"
   ]
  },
  {
   "cell_type": "code",
   "execution_count": 11,
   "id": "276f2c9a-7508-4e8f-9538-77f34f9859b8",
   "metadata": {},
   "outputs": [
    {
     "data": {
      "text/plain": [
       "'vijayalaxmi gurav'"
      ]
     },
     "execution_count": 11,
     "metadata": {},
     "output_type": "execute_result"
    }
   ],
   "source": [
    "name.lower()"
   ]
  },
  {
   "cell_type": "code",
   "execution_count": 12,
   "id": "4f3fbd5d-dda5-4d40-a39d-7266ff8136b7",
   "metadata": {},
   "outputs": [
    {
     "data": {
      "text/plain": [
       "'VIJAYALAXMI GURAV'"
      ]
     },
     "execution_count": 12,
     "metadata": {},
     "output_type": "execute_result"
    }
   ],
   "source": [
    "name"
   ]
  },
  {
   "cell_type": "code",
   "execution_count": 15,
   "id": "f9f37b7e-d6f4-4165-b4a8-09e14ff46630",
   "metadata": {},
   "outputs": [],
   "source": [
    "name = name.lower()"
   ]
  },
  {
   "cell_type": "code",
   "execution_count": 16,
   "id": "7f0b24a7-4a58-49d6-b3d3-d11ad545fa14",
   "metadata": {},
   "outputs": [
    {
     "data": {
      "text/plain": [
       "'vijayalaxmi gurav'"
      ]
     },
     "execution_count": 16,
     "metadata": {},
     "output_type": "execute_result"
    }
   ],
   "source": [
    "name"
   ]
  },
  {
   "cell_type": "code",
   "execution_count": 20,
   "id": "011b403c-1105-4f8f-9c5a-79cef7ee8ded",
   "metadata": {},
   "outputs": [],
   "source": [
    "name1= \"ViJaYaLaXmi gUrAv\""
   ]
  },
  {
   "cell_type": "code",
   "execution_count": 21,
   "id": "f5c8e3f4-ea9c-4800-9179-be24e48a77dd",
   "metadata": {},
   "outputs": [
    {
     "data": {
      "text/plain": [
       "'ViJaYaLaXmi gUrAv'"
      ]
     },
     "execution_count": 21,
     "metadata": {},
     "output_type": "execute_result"
    }
   ],
   "source": [
    "name1"
   ]
  },
  {
   "cell_type": "code",
   "execution_count": 26,
   "id": "7baf1dad-2c12-463d-a85a-7fa5b7ab00ce",
   "metadata": {},
   "outputs": [
    {
     "data": {
      "text/plain": [
       "'vIjAyAlAxMI GuRaV'"
      ]
     },
     "execution_count": 26,
     "metadata": {},
     "output_type": "execute_result"
    }
   ],
   "source": [
    "name1.swapcase()"
   ]
  },
  {
   "cell_type": "code",
   "execution_count": 27,
   "id": "910e78f4-7905-494a-b3b7-2e866a78e6d7",
   "metadata": {},
   "outputs": [],
   "source": [
    "name2 = \"     vijayalaxmi     Gurav     \""
   ]
  },
  {
   "cell_type": "code",
   "execution_count": 28,
   "id": "6c8eaa9f-bf3d-47b1-b343-5bd3dc3ae5ab",
   "metadata": {},
   "outputs": [
    {
     "data": {
      "text/plain": [
       "'     vijayalaxmi     Gurav     '"
      ]
     },
     "execution_count": 28,
     "metadata": {},
     "output_type": "execute_result"
    }
   ],
   "source": [
    "name2"
   ]
  },
  {
   "cell_type": "code",
   "execution_count": 31,
   "id": "3d0ea6cf-95e7-4c62-b413-1ba3a30d7f3b",
   "metadata": {},
   "outputs": [
    {
     "data": {
      "text/plain": [
       "'vijayalaxmi     Gurav'"
      ]
     },
     "execution_count": 31,
     "metadata": {},
     "output_type": "execute_result"
    }
   ],
   "source": [
    "name2.strip()"
   ]
  },
  {
   "cell_type": "code",
   "execution_count": 32,
   "id": "4ce57d5a-9235-467f-a720-7ab8a3096bab",
   "metadata": {},
   "outputs": [
    {
     "data": {
      "text/plain": [
       "'     vijayalaxmi     Gurav     '"
      ]
     },
     "execution_count": 32,
     "metadata": {},
     "output_type": "execute_result"
    }
   ],
   "source": [
    "name2"
   ]
  },
  {
   "cell_type": "code",
   "execution_count": 34,
   "id": "98bf50c2-928b-43c6-8a56-6ad066cb7995",
   "metadata": {},
   "outputs": [
    {
     "data": {
      "text/plain": [
       "'  Vijayalaxmi Gurav  '"
      ]
     },
     "execution_count": 34,
     "metadata": {},
     "output_type": "execute_result"
    }
   ],
   "source": [
    "name3 = \"  Vijayalaxmi Gurav  \"\n",
    "name3"
   ]
  },
  {
   "cell_type": "code",
   "execution_count": 40,
   "id": "2749479d-3ef1-4e17-98f3-dabba15e2a4f",
   "metadata": {},
   "outputs": [
    {
     "data": {
      "text/plain": [
       "'**************  Vijayalaxmi Gurav  ***************'"
      ]
     },
     "execution_count": 40,
     "metadata": {},
     "output_type": "execute_result"
    }
   ],
   "source": [
    "name3.center(50,'*')"
   ]
  },
  {
   "cell_type": "code",
   "execution_count": 41,
   "id": "6a1e8402-d865-4ecd-bcf1-3e1f0feb4a62",
   "metadata": {},
   "outputs": [
    {
     "data": {
      "text/plain": [
       "'  Vijayalaxmi Gurav  '"
      ]
     },
     "execution_count": 41,
     "metadata": {},
     "output_type": "execute_result"
    }
   ],
   "source": [
    "name3"
   ]
  },
  {
   "cell_type": "code",
   "execution_count": 42,
   "id": "c74f4d8e-bd32-4267-8f35-171604c887d8",
   "metadata": {},
   "outputs": [],
   "source": [
    "name4 = \"Vijayalaxmi Gurav\""
   ]
  },
  {
   "cell_type": "code",
   "execution_count": 43,
   "id": "83320997-300e-42fb-b4ef-c4eea10f18c6",
   "metadata": {},
   "outputs": [
    {
     "data": {
      "text/plain": [
       "False"
      ]
     },
     "execution_count": 43,
     "metadata": {},
     "output_type": "execute_result"
    }
   ],
   "source": [
    "name4.islower()"
   ]
  },
  {
   "cell_type": "code",
   "execution_count": 44,
   "id": "987628df-7ff9-4f45-ab5d-c66c396f478b",
   "metadata": {},
   "outputs": [],
   "source": [
    "name5 = 'vijayalaxmi'"
   ]
  },
  {
   "cell_type": "code",
   "execution_count": 45,
   "id": "495b8f53-e187-4527-8f9f-b4b58dd87d4d",
   "metadata": {},
   "outputs": [
    {
     "data": {
      "text/plain": [
       "True"
      ]
     },
     "execution_count": 45,
     "metadata": {},
     "output_type": "execute_result"
    }
   ],
   "source": [
    "name5.islower()"
   ]
  },
  {
   "cell_type": "code",
   "execution_count": 47,
   "id": "d4e0ffff-ea28-4dba-8a2a-b904bb18023a",
   "metadata": {},
   "outputs": [
    {
     "data": {
      "text/plain": [
       "'Vijayalaxmi Gurav'"
      ]
     },
     "execution_count": 47,
     "metadata": {},
     "output_type": "execute_result"
    }
   ],
   "source": [
    "name4"
   ]
  },
  {
   "cell_type": "code",
   "execution_count": 48,
   "id": "3e234be3-533a-40ba-8daf-ddf3cb2925a5",
   "metadata": {},
   "outputs": [
    {
     "data": {
      "text/plain": [
       "False"
      ]
     },
     "execution_count": 48,
     "metadata": {},
     "output_type": "execute_result"
    }
   ],
   "source": [
    "name4.isupper()"
   ]
  },
  {
   "cell_type": "code",
   "execution_count": 49,
   "id": "21d80742-6e03-4ee9-ba87-8cac5c0c9e34",
   "metadata": {},
   "outputs": [],
   "source": [
    "name5 = \"VIJAYALAXMI\""
   ]
  },
  {
   "cell_type": "code",
   "execution_count": 50,
   "id": "fe2d03be-d4aa-43ec-a85f-2e32458d421f",
   "metadata": {},
   "outputs": [
    {
     "data": {
      "text/plain": [
       "True"
      ]
     },
     "execution_count": 50,
     "metadata": {},
     "output_type": "execute_result"
    }
   ],
   "source": [
    "name5.isupper()"
   ]
  },
  {
   "cell_type": "code",
   "execution_count": 51,
   "id": "78008f3c-f8dd-467b-8917-fb8e6fc2f8e3",
   "metadata": {},
   "outputs": [
    {
     "data": {
      "text/plain": [
       "False"
      ]
     },
     "execution_count": 51,
     "metadata": {},
     "output_type": "execute_result"
    }
   ],
   "source": [
    "name4.isspace()"
   ]
  },
  {
   "cell_type": "code",
   "execution_count": 52,
   "id": "15786d31-51fa-4bb1-9b13-9d6e9d0d77d5",
   "metadata": {},
   "outputs": [
    {
     "data": {
      "text/plain": [
       "'Vijayalaxmi Gurav'"
      ]
     },
     "execution_count": 52,
     "metadata": {},
     "output_type": "execute_result"
    }
   ],
   "source": [
    "name4"
   ]
  },
  {
   "cell_type": "code",
   "execution_count": null,
   "id": "84ab5117-4d19-4cf6-8fdd-714bcfbe0633",
   "metadata": {},
   "outputs": [],
   "source": []
  }
 ],
 "metadata": {
  "kernelspec": {
   "display_name": "Python 3 (ipykernel)",
   "language": "python",
   "name": "python3"
  },
  "language_info": {
   "codemirror_mode": {
    "name": "ipython",
    "version": 3
   },
   "file_extension": ".py",
   "mimetype": "text/x-python",
   "name": "python",
   "nbconvert_exporter": "python",
   "pygments_lexer": "ipython3",
   "version": "3.12.4"
  }
 },
 "nbformat": 4,
 "nbformat_minor": 5
}
